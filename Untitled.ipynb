{
 "cells": [
  {
   "cell_type": "markdown",
   "id": "3838ea7b-b816-4ebe-b82d-8b8b8a50aaf2",
   "metadata": {},
   "source": [
    "# Ісландія\n",
    "\n",
    "## Загальна інформація\n",
    "\n",
    "- **Площа**: 103,000 км²\n",
    "- **Населення**: близько 364,134 осіб (станом на 2020 рік)\n",
    "- **Державний устрій**: Унітарна парламентська республіка\n",
    "\n",
    "<font color=\"blue\">Ісландія</font> — країна, що знаходиться на північно-західній околиці Європи та відома своїми вражаючими пейзажами, гейзерами, гарячими джерелами, вулканами, а також багатою історією та культурою.\n",
    "\n",
    "## Видатні персоналії\n",
    "\n",
    "- *Халлдор Лакснес*, лауреат Нобелівської премії з літератури.\n",
    "- **Бйорк**, світово відома співачка та музикантка.\n",
    "\n",
    "## Пам’ятки культури та природи\n",
    "\n",
    "1. **Золоте коло**:\n",
    "   - Гейзер Гейсір\n",
    "   - Водоспад Гульфосс\n",
    "   - Національний парк Тингвеллір\n",
    "2. **Синя лагуна** - геотермальна спа-зона.\n",
    "\n",
    "![Синя Лагуна](https://otdyhateli.com/wp-content/uploads/2016/03/laguna7.jpg)\n",
    "\n",
    "## Таблиця найбільших міст\n",
    "| Місто         | Населення |\n",
    "|---------------|-----------|\n",
    "| Рейк'явік     | 128,793   |\n",
    "| Копавогюр     | 35,173    |\n",
    "| Хафнарфьордур | 29,799    |\n",
    "\n",
    "## Гіперпосилання\n",
    "\n",
    "Дізнатися більше про Ісландію можна на [офіційному туристичному сайті](https://nordictravel.ua/vdohnovlenie/islandija/sightseeing_in_iceland/blue_lagoon_iceland).\n",
    "\n",
    "## Флаг Ісландії"
   ]
  },
  {
   "cell_type": "code",
   "execution_count": 2,
   "id": "4a1bc5c6-a863-4f0a-b495-2cfb0aed6500",
   "metadata": {},
   "outputs": [
    {
     "data": {
      "text/html": [
       "<svg width=\"300\" height=\"200\" xmlns=\"http://www.w3.org/2000/svg\">\n",
       "  <rect width=\"300\" height=\"200\" fill=\"#003897\"/>\n",
       "  <rect width=\"300\" height=\"40\" y=\"80\" fill=\"#ffffff\"/>\n",
       "  <rect width=\"40\" height=\"200\" x=\"120\" fill=\"#ffffff\"/>\n",
       "  <rect width=\"300\" height=\"25\" y=\"87.5\" fill=\"#d72828\"/>\n",
       "  <rect width=\"25\" height=\"200\" x=\"127.5\" fill=\"#d72828\"/>\n",
       "</svg>\n"
      ],
      "text/plain": [
       "<IPython.core.display.HTML object>"
      ]
     },
     "metadata": {},
     "output_type": "display_data"
    }
   ],
   "source": [
    "%%html\n",
    "<svg width=\"300\" height=\"200\" xmlns=\"http://www.w3.org/2000/svg\">\n",
    "  <rect width=\"300\" height=\"200\" fill=\"#003897\"/>\n",
    "  <rect width=\"300\" height=\"40\" y=\"80\" fill=\"#ffffff\"/>\n",
    "  <rect width=\"40\" height=\"200\" x=\"120\" fill=\"#ffffff\"/>\n",
    "  <rect width=\"300\" height=\"25\" y=\"87.5\" fill=\"#d72828\"/>\n",
    "  <rect width=\"25\" height=\"200\" x=\"127.5\" fill=\"#d72828\"/>\n",
    "</svg>"
   ]
  },
  {
   "cell_type": "code",
   "execution_count": null,
   "id": "dffc696a-a475-44ed-9aaa-805b126ce8fe",
   "metadata": {},
   "outputs": [],
   "source": []
  }
 ],
 "metadata": {
  "kernelspec": {
   "display_name": "Python 3 (ipykernel)",
   "language": "python",
   "name": "python3"
  },
  "language_info": {
   "codemirror_mode": {
    "name": "ipython",
    "version": 3
   },
   "file_extension": ".py",
   "mimetype": "text/x-python",
   "name": "python",
   "nbconvert_exporter": "python",
   "pygments_lexer": "ipython3",
   "version": "3.12.2"
  }
 },
 "nbformat": 4,
 "nbformat_minor": 5
}
