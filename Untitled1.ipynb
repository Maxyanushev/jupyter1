{
 "cells": [
  {
   "cell_type": "code",
   "execution_count": 6,
   "id": "03de9851-55d5-44f6-9fb8-63a4b9af75e0",
   "metadata": {},
   "outputs": [
    {
     "name": "stdout",
     "output_type": "stream",
     "text": [
      "101\n",
      "1010.01\n",
      "Помилка: Значення 'str' не є числом\n"
     ]
    }
   ],
   "source": [
    "def task7(value):\n",
    "    if isinstance(value, int):\n",
    "        return format(value, 'b')\n",
    "    elif isinstance(value, float):\n",
    "        whole, frac = str(value).split('.')\n",
    "        whole_bin = format(int(whole), 'b')\n",
    "        frac_bin = ''\n",
    "        frac = float('0.' + frac)\n",
    "        while frac:\n",
    "            frac *= 2\n",
    "            if frac >= 1:\n",
    "                frac_bin += '1'\n",
    "                frac -= 1\n",
    "            else:\n",
    "                frac_bin += '0'\n",
    "            if len(frac_bin) > 10:\n",
    "                break\n",
    "        return whole_bin + '.' + frac_bin\n",
    "    else:\n",
    "        return f\"Помилка: Значення '{value}' не є числом\"\n",
    "\n",
    "print(task7(5))\n",
    "print(task7(10.25))\n",
    "print(task7(\"str\"))"
   ]
  },
  {
   "cell_type": "code",
   "execution_count": null,
   "id": "4650b167-51ed-42f9-9648-0450a0e6a46a",
   "metadata": {},
   "outputs": [],
   "source": []
  }
 ],
 "metadata": {
  "kernelspec": {
   "display_name": "Python 3 (ipykernel)",
   "language": "python",
   "name": "python3"
  },
  "language_info": {
   "codemirror_mode": {
    "name": "ipython",
    "version": 3
   },
   "file_extension": ".py",
   "mimetype": "text/x-python",
   "name": "python",
   "nbconvert_exporter": "python",
   "pygments_lexer": "ipython3",
   "version": "3.12.2"
  }
 },
 "nbformat": 4,
 "nbformat_minor": 5
}
